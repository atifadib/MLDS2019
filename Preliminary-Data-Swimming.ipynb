{
 "cells": [
  {
   "cell_type": "markdown",
   "metadata": {},
   "source": [
    "### Reading Data into a Pandas DataFrame for Data-Swimming"
   ]
  },
  {
   "cell_type": "code",
   "execution_count": 104,
   "metadata": {},
   "outputs": [
    {
     "data": {
      "text/html": [
       "<div>\n",
       "<style scoped>\n",
       "    .dataframe tbody tr th:only-of-type {\n",
       "        vertical-align: middle;\n",
       "    }\n",
       "\n",
       "    .dataframe tbody tr th {\n",
       "        vertical-align: top;\n",
       "    }\n",
       "\n",
       "    .dataframe thead th {\n",
       "        text-align: right;\n",
       "    }\n",
       "</style>\n",
       "<table border=\"1\" class=\"dataframe\">\n",
       "  <thead>\n",
       "    <tr style=\"text-align: right;\">\n",
       "      <th></th>\n",
       "      <th>Unnamed: 0</th>\n",
       "      <th>Country Name</th>\n",
       "      <th>Country Code</th>\n",
       "      <th>Year</th>\n",
       "      <th>Balance</th>\n",
       "      <th>Inflation</th>\n",
       "      <th>GDP</th>\n",
       "      <th>Exports</th>\n",
       "      <th>Trade</th>\n",
       "    </tr>\n",
       "  </thead>\n",
       "  <tbody>\n",
       "    <tr>\n",
       "      <th>0</th>\n",
       "      <td>0</td>\n",
       "      <td>Senegal</td>\n",
       "      <td>SEN</td>\n",
       "      <td>1983</td>\n",
       "      <td>-3.043829e+08</td>\n",
       "      <td>9.274213</td>\n",
       "      <td>-5.326393</td>\n",
       "      <td>6.180000e+08</td>\n",
       "      <td>59.224298</td>\n",
       "    </tr>\n",
       "    <tr>\n",
       "      <th>1</th>\n",
       "      <td>1</td>\n",
       "      <td>Togo</td>\n",
       "      <td>TGO</td>\n",
       "      <td>2009</td>\n",
       "      <td>-1.766692e+08</td>\n",
       "      <td>1.855275</td>\n",
       "      <td>3.510297</td>\n",
       "      <td>9.030260e+08</td>\n",
       "      <td>76.242542</td>\n",
       "    </tr>\n",
       "    <tr>\n",
       "      <th>2</th>\n",
       "      <td>2</td>\n",
       "      <td>Pakistan</td>\n",
       "      <td>PAK</td>\n",
       "      <td>1992</td>\n",
       "      <td>-1.876092e+09</td>\n",
       "      <td>10.057085</td>\n",
       "      <td>7.705898</td>\n",
       "      <td>7.351000e+09</td>\n",
       "      <td>34.489440</td>\n",
       "    </tr>\n",
       "    <tr>\n",
       "      <th>3</th>\n",
       "      <td>3</td>\n",
       "      <td>Nepal</td>\n",
       "      <td>NPL</td>\n",
       "      <td>1988</td>\n",
       "      <td>-2.714506e+08</td>\n",
       "      <td>11.815310</td>\n",
       "      <td>7.696809</td>\n",
       "      <td>1.900000e+08</td>\n",
       "      <td>24.978422</td>\n",
       "    </tr>\n",
       "    <tr>\n",
       "      <th>4</th>\n",
       "      <td>5</td>\n",
       "      <td>Malta</td>\n",
       "      <td>MLT</td>\n",
       "      <td>2016</td>\n",
       "      <td>7.269132e+08</td>\n",
       "      <td>1.604548</td>\n",
       "      <td>5.516617</td>\n",
       "      <td>3.017299e+09</td>\n",
       "      <td>83.781471</td>\n",
       "    </tr>\n",
       "  </tbody>\n",
       "</table>\n",
       "</div>"
      ],
      "text/plain": [
       "   Unnamed: 0 Country Name Country Code  Year       Balance  Inflation  \\\n",
       "0           0      Senegal          SEN  1983 -3.043829e+08   9.274213   \n",
       "1           1         Togo          TGO  2009 -1.766692e+08   1.855275   \n",
       "2           2     Pakistan          PAK  1992 -1.876092e+09  10.057085   \n",
       "3           3        Nepal          NPL  1988 -2.714506e+08  11.815310   \n",
       "4           5        Malta          MLT  2016  7.269132e+08   1.604548   \n",
       "\n",
       "        GDP       Exports      Trade  \n",
       "0 -5.326393  6.180000e+08  59.224298  \n",
       "1  3.510297  9.030260e+08  76.242542  \n",
       "2  7.705898  7.351000e+09  34.489440  \n",
       "3  7.696809  1.900000e+08  24.978422  \n",
       "4  5.516617  3.017299e+09  83.781471  "
      ]
     },
     "execution_count": 104,
     "metadata": {},
     "output_type": "execute_result"
    }
   ],
   "source": [
    "#Imports\n",
    "#====================\n",
    "import pandas as pd\n",
    "import pandas as pd\n",
    "import numpy as np\n",
    "import matplotlib.pyplot as plt\n",
    "#====================\n",
    "\n",
    "data = pd.read_csv('final_train_data.csv')\n",
    "\n",
    "data.head()"
   ]
  },
  {
   "cell_type": "markdown",
   "metadata": {},
   "source": [
    "### Finding High-Level Stats \n",
    "#### Num of Samples, Samples Per Country, etc"
   ]
  },
  {
   "cell_type": "code",
   "execution_count": 74,
   "metadata": {},
   "outputs": [
    {
     "name": "stdout",
     "output_type": "stream",
     "text": [
      "Total rows:  4506\n",
      "Total Countries:  150\n",
      "=============\n",
      "Samples per Country(Top-10)\n",
      "[('ISR', 47), ('ZAF', 45), ('CAN', 43), ('DOM', 39), ('MYS', 39), ('SAU', 39), ('GTM', 38), ('USA', 38), ('HTI', 37), ('GRD', 37)]\n"
     ]
    }
   ],
   "source": [
    "print(\"Total rows: \",len(data))\n",
    "print(\"Total Countries: \",len(set(data['Country Code'])))\n",
    "\n",
    "country_vc = data['Country Code'].value_counts()\n",
    "country_to_sample_count = dict()\n",
    "for _ in country_vc.iteritems():\n",
    "    country_to_sample_count[_[0]] = _[1]\n",
    "\n",
    "#Countries with Max samples:\n",
    "print(\"=============\")\n",
    "print(\"Samples per Country(Top-10)\")\n",
    "sample_count = sorted([(k,v) for k,v in country_to_sample_count.items()],reverse=True,key=lambda x:x[1])\n",
    "print(sample_count[:10])"
   ]
  },
  {
   "cell_type": "markdown",
   "metadata": {},
   "source": [
    "### Checking for NaN values in Dataset"
   ]
  },
  {
   "cell_type": "code",
   "execution_count": 105,
   "metadata": {},
   "outputs": [
    {
     "name": "stdout",
     "output_type": "stream",
     "text": [
      "Checking for NaN values in Dataset\n"
     ]
    },
    {
     "data": {
      "text/plain": [
       "Unnamed: 0      False\n",
       "Country Name    False\n",
       "Country Code    False\n",
       "Year            False\n",
       "Balance         False\n",
       "Inflation        True\n",
       "GDP              True\n",
       "Exports          True\n",
       "Trade            True\n",
       "dtype: bool"
      ]
     },
     "execution_count": 105,
     "metadata": {},
     "output_type": "execute_result"
    }
   ],
   "source": [
    "print(\"Checking for NaN values in Dataset\")\n",
    "data.isnull().any()"
   ]
  },
  {
   "cell_type": "markdown",
   "metadata": {},
   "source": [
    "#### Countries and Year for which Balance is present in the Dataset"
   ]
  },
  {
   "cell_type": "code",
   "execution_count": 98,
   "metadata": {},
   "outputs": [
    {
     "name": "stdout",
     "output_type": "stream",
     "text": [
      "Country and Years:\n",
      "Top-3\n",
      "('ISR', [1960, 1961, 1962, 1964, 1965, 1966, 1968, 1970, 1971, 1972, 1973, 1974, 1975, 1976, 1977, 1978, 1980, 1981, 1982, 1984, 1985, 1986, 1987, 1988, 1989, 1990, 1991, 1992, 1993, 1995, 1996, 1997, 1998, 2000, 2001, 2002, 2003, 2005, 2006, 2007, 2008, 2009, 2010, 2011, 2012, 2013, 2015])\n",
      "===========\n",
      "('ZAF', [1960, 1961, 1962, 1963, 1964, 1967, 1968, 1970, 1971, 1972, 1973, 1974, 1976, 1977, 1978, 1979, 1980, 1981, 1982, 1983, 1984, 1986, 1987, 1989, 1990, 1992, 1993, 1994, 1996, 1997, 1998, 1999, 2000, 2001, 2002, 2004, 2005, 2006, 2007, 2009, 2010, 2012, 2013, 2014, 2016])\n",
      "===========\n",
      "('CAN', [1962, 1963, 1964, 1965, 1967, 1968, 1969, 1971, 1972, 1973, 1974, 1975, 1976, 1977, 1978, 1980, 1981, 1982, 1985, 1987, 1988, 1989, 1991, 1992, 1993, 1994, 1995, 1996, 1998, 2000, 2001, 2002, 2005, 2006, 2007, 2008, 2009, 2011, 2012, 2013, 2014, 2015, 2016])\n",
      "===========\n",
      "Bottom-3\n",
      "('JPN', [1996, 1997, 1998, 1999, 2000, 2002, 2004, 2006, 2007, 2009, 2010, 2011, 2012, 2013, 2014, 2016])\n",
      "===========\n",
      "('AZE', [1995, 1996, 1997, 1998, 2000, 2002, 2003, 2004, 2005, 2006, 2008, 2010, 2011, 2014, 2015, 2016])\n",
      "===========\n",
      "('KAZ', [1996, 1998, 1999, 2000, 2001, 2004, 2005, 2006, 2007, 2008, 2009, 2011, 2012, 2014, 2015, 2016])\n",
      "===========\n"
     ]
    }
   ],
   "source": [
    "country_to_year_series = dict()\n",
    "for idx,row in data.iterrows():\n",
    "    try:\n",
    "        country_to_year_series[row['Country Code'].strip()].append(int(row['Year']))\n",
    "    except KeyError:\n",
    "        country_to_year_series[row['Country Code'].strip()] = [int(row['Year'])]\n",
    "per_year_data = sorted([(k,sorted(v)) for k,v in country_to_year_series.items()],reverse=True,key=lambda x:len(x[1]))\n",
    "print(\"Country and Years:\")\n",
    "print(\"Top-3\")\n",
    "for _ in per_year_data[:3]:\n",
    "    print(_,end=\"\\n===========\\n\")\n",
    "print(\"Bottom-3\")\n",
    "for _ in per_year_data[-3:]:\n",
    "    print(_,end=\"\\n===========\\n\")"
   ]
  },
  {
   "cell_type": "markdown",
   "metadata": {},
   "source": [
    "### Plotting Balance Vs Year for Top-3 Countries"
   ]
  },
  {
   "cell_type": "code",
   "execution_count": 97,
   "metadata": {},
   "outputs": [
    {
     "data": {
      "text/html": [
       "<iframe id=\"igraph\" scrolling=\"no\" style=\"border:none;\" seamless=\"seamless\" src=\"https://plot.ly/~atif251194/8.embed\" height=\"525px\" width=\"100%\"></iframe>"
      ],
      "text/plain": [
       "<plotly.tools.PlotlyDisplay object>"
      ]
     },
     "execution_count": 97,
     "metadata": {},
     "output_type": "execute_result"
    }
   ],
   "source": [
    "import plotly.plotly as py\n",
    "import plotly.graph_objs as go\n",
    "\n",
    "pdf = data[data['Country Code'].isin(['ISR','ZAF','CAN'])]\n",
    "trace1 = go.Bar(\n",
    "    x=pdf[pdf['Country Code']=='ISR']['Year'],\n",
    "    y=pdf[pdf['Country Code']=='ISR']['Balance'],\n",
    "    name='ISR',\n",
    "    marker=dict(\n",
    "                color='rgb(255,0,0)')\n",
    ")\n",
    "trace2 = go.Bar(\n",
    "    x=pdf[pdf['Country Code']=='ZAF']['Year'],\n",
    "    y=pdf[pdf['Country Code']=='ZAF']['Balance'],\n",
    "    name='ZAF',\n",
    "    marker=dict(\n",
    "                color='rgb(0,255,0)')\n",
    ")\n",
    "trace3 = go.Bar(\n",
    "    x=pdf[pdf['Country Code']=='CAN']['Year'],\n",
    "    y=pdf[pdf['Country Code']=='CAN']['Balance'],\n",
    "    name='CAN',\n",
    "    marker=dict(\n",
    "                color='rgb(0,0,255)')\n",
    ")\n",
    "\n",
    "pdata = [trace1, trace2, trace3]\n",
    "layout = go.Layout(\n",
    "    barmode='group'\n",
    ")\n",
    "\n",
    "fig = go.Figure(data=pdata, layout=layout)\n",
    "py.iplot(fig, filename='grouped-bar')"
   ]
  },
  {
   "cell_type": "markdown",
   "metadata": {},
   "source": [
    "#### Plotting Balance Vs Year for Bottom-3 Countries"
   ]
  },
  {
   "cell_type": "code",
   "execution_count": 99,
   "metadata": {},
   "outputs": [
    {
     "data": {
      "text/html": [
       "<iframe id=\"igraph\" scrolling=\"no\" style=\"border:none;\" seamless=\"seamless\" src=\"https://plot.ly/~atif251194/8.embed\" height=\"525px\" width=\"100%\"></iframe>"
      ],
      "text/plain": [
       "<plotly.tools.PlotlyDisplay object>"
      ]
     },
     "execution_count": 99,
     "metadata": {},
     "output_type": "execute_result"
    }
   ],
   "source": [
    "import plotly.plotly as py\n",
    "import plotly.graph_objs as go\n",
    "\n",
    "pdf = data[data['Country Code'].isin(['JPN','AZE','KAZ'])]\n",
    "trace1 = go.Bar(\n",
    "    x=pdf[pdf['Country Code']=='JPN']['Year'],\n",
    "    y=pdf[pdf['Country Code']=='JPN']['Balance'],\n",
    "    name='JPN',\n",
    "    marker=dict(\n",
    "                color='rgb(255,0,0)')\n",
    ")\n",
    "trace2 = go.Bar(\n",
    "    x=pdf[pdf['Country Code']=='AZE']['Year'],\n",
    "    y=pdf[pdf['Country Code']=='AZE']['Balance'],\n",
    "    name='AZE',\n",
    "    marker=dict(\n",
    "                color='rgb(0,255,0)')\n",
    ")\n",
    "trace3 = go.Bar(\n",
    "    x=pdf[pdf['Country Code']=='KAZ']['Year'],\n",
    "    y=pdf[pdf['Country Code']=='KAZ']['Balance'],\n",
    "    name='KAZ',\n",
    "    marker=dict(\n",
    "                color='rgb(0,0,255)')\n",
    ")\n",
    "\n",
    "pdata = [trace1, trace2, trace3]\n",
    "layout = go.Layout(\n",
    "    barmode='group'\n",
    ")\n",
    "\n",
    "fig = go.Figure(data=pdata, layout=layout)\n",
    "py.iplot(fig, filename='grouped-bar')"
   ]
  },
  {
   "cell_type": "code",
   "execution_count": 109,
   "metadata": {},
   "outputs": [
    {
     "data": {
      "text/html": [
       "<iframe id=\"igraph\" scrolling=\"no\" style=\"border:none;\" seamless=\"seamless\" src=\"https://plot.ly/~atif251194/8.embed\" height=\"525px\" width=\"100%\"></iframe>"
      ],
      "text/plain": [
       "<plotly.tools.PlotlyDisplay object>"
      ]
     },
     "execution_count": 109,
     "metadata": {},
     "output_type": "execute_result"
    }
   ],
   "source": [
    "import plotly.plotly as py\n",
    "import plotly.graph_objs as go\n",
    "targets = ['JPN','AZE','KAZ']\n",
    "x_axis = \"Year\"\n",
    "y_axis = \"Exports\"\n",
    "pdf = data[data['Country Code'].isin(targets)]\n",
    "trace1 = go.Bar(\n",
    "    x=pdf[pdf['Country Code']==targets[0]][x_axis],\n",
    "    y=pdf[pdf['Country Code']==targets[0]][y_axis],\n",
    "    name=targets[0],\n",
    "    marker=dict(\n",
    "                color='rgb(255,0,0)')\n",
    ")\n",
    "trace2 = go.Bar(\n",
    "    x=pdf[pdf['Country Code']==targets[1]][x_axis],\n",
    "    y=pdf[pdf['Country Code']==targets[1]][y_axis],\n",
    "    name=targets[1],\n",
    "    marker=dict(\n",
    "                color='rgb(0,255,0)')\n",
    ")\n",
    "trace3 = go.Bar(\n",
    "    x=pdf[pdf['Country Code']==targets[2]][x_axis],\n",
    "    y=pdf[pdf['Country Code']==targets[2]][y_axis],\n",
    "    name=targets[2],\n",
    "    marker=dict(\n",
    "                color='rgb(0,0,255)')\n",
    ")\n",
    "\n",
    "pdata = [trace1, trace2, trace3]\n",
    "layout = go.Layout(\n",
    "    barmode='group'\n",
    ")\n",
    "\n",
    "fig = go.Figure(data=pdata, layout=layout)\n",
    "py.iplot(fig, filename='grouped-bar')"
   ]
  },
  {
   "cell_type": "markdown",
   "metadata": {},
   "source": [
    "#### Raw Correlation Analysis"
   ]
  },
  {
   "cell_type": "code",
   "execution_count": 96,
   "metadata": {},
   "outputs": [
    {
     "data": {
      "text/html": [
       "<style  type=\"text/css\" >\n",
       "    #T_38595e76_248f_11e9_920e_f2002062a201row0_col0 {\n",
       "            background-color:  #023858;\n",
       "        }    #T_38595e76_248f_11e9_920e_f2002062a201row0_col1 {\n",
       "            background-color:  #f7f0f7;\n",
       "        }    #T_38595e76_248f_11e9_920e_f2002062a201row0_col2 {\n",
       "            background-color:  #a7bddb;\n",
       "        }    #T_38595e76_248f_11e9_920e_f2002062a201row0_col3 {\n",
       "            background-color:  #f0eaf4;\n",
       "        }    #T_38595e76_248f_11e9_920e_f2002062a201row0_col4 {\n",
       "            background-color:  #fdf5fa;\n",
       "        }    #T_38595e76_248f_11e9_920e_f2002062a201row0_col5 {\n",
       "            background-color:  #f0eaf4;\n",
       "        }    #T_38595e76_248f_11e9_920e_f2002062a201row0_col6 {\n",
       "            background-color:  #a7bddb;\n",
       "        }    #T_38595e76_248f_11e9_920e_f2002062a201row1_col0 {\n",
       "            background-color:  #fbf4f9;\n",
       "        }    #T_38595e76_248f_11e9_920e_f2002062a201row1_col1 {\n",
       "            background-color:  #023858;\n",
       "        }    #T_38595e76_248f_11e9_920e_f2002062a201row1_col2 {\n",
       "            background-color:  #b1c2de;\n",
       "        }    #T_38595e76_248f_11e9_920e_f2002062a201row1_col3 {\n",
       "            background-color:  #f4edf6;\n",
       "        }    #T_38595e76_248f_11e9_920e_f2002062a201row1_col4 {\n",
       "            background-color:  #d2d3e7;\n",
       "        }    #T_38595e76_248f_11e9_920e_f2002062a201row1_col5 {\n",
       "            background-color:  #f1ebf4;\n",
       "        }    #T_38595e76_248f_11e9_920e_f2002062a201row1_col6 {\n",
       "            background-color:  #a4bcda;\n",
       "        }    #T_38595e76_248f_11e9_920e_f2002062a201row2_col0 {\n",
       "            background-color:  #fdf5fa;\n",
       "        }    #T_38595e76_248f_11e9_920e_f2002062a201row2_col1 {\n",
       "            background-color:  #fff7fb;\n",
       "        }    #T_38595e76_248f_11e9_920e_f2002062a201row2_col2 {\n",
       "            background-color:  #023858;\n",
       "        }    #T_38595e76_248f_11e9_920e_f2002062a201row2_col3 {\n",
       "            background-color:  #fff7fb;\n",
       "        }    #T_38595e76_248f_11e9_920e_f2002062a201row2_col4 {\n",
       "            background-color:  #fef6fa;\n",
       "        }    #T_38595e76_248f_11e9_920e_f2002062a201row2_col5 {\n",
       "            background-color:  #fef6fb;\n",
       "        }    #T_38595e76_248f_11e9_920e_f2002062a201row2_col6 {\n",
       "            background-color:  #fff7fb;\n",
       "        }    #T_38595e76_248f_11e9_920e_f2002062a201row3_col0 {\n",
       "            background-color:  #faf3f9;\n",
       "        }    #T_38595e76_248f_11e9_920e_f2002062a201row3_col1 {\n",
       "            background-color:  #faf3f9;\n",
       "        }    #T_38595e76_248f_11e9_920e_f2002062a201row3_col2 {\n",
       "            background-color:  #bbc7e0;\n",
       "        }    #T_38595e76_248f_11e9_920e_f2002062a201row3_col3 {\n",
       "            background-color:  #023858;\n",
       "        }    #T_38595e76_248f_11e9_920e_f2002062a201row3_col4 {\n",
       "            background-color:  #fff7fb;\n",
       "        }    #T_38595e76_248f_11e9_920e_f2002062a201row3_col5 {\n",
       "            background-color:  #ebe6f2;\n",
       "        }    #T_38595e76_248f_11e9_920e_f2002062a201row3_col6 {\n",
       "            background-color:  #84b0d3;\n",
       "        }    #T_38595e76_248f_11e9_920e_f2002062a201row4_col0 {\n",
       "            background-color:  #fff7fb;\n",
       "        }    #T_38595e76_248f_11e9_920e_f2002062a201row4_col1 {\n",
       "            background-color:  #d1d2e6;\n",
       "        }    #T_38595e76_248f_11e9_920e_f2002062a201row4_col2 {\n",
       "            background-color:  #acc0dd;\n",
       "        }    #T_38595e76_248f_11e9_920e_f2002062a201row4_col3 {\n",
       "            background-color:  #f7f0f7;\n",
       "        }    #T_38595e76_248f_11e9_920e_f2002062a201row4_col4 {\n",
       "            background-color:  #023858;\n",
       "        }    #T_38595e76_248f_11e9_920e_f2002062a201row4_col5 {\n",
       "            background-color:  #fff7fb;\n",
       "        }    #T_38595e76_248f_11e9_920e_f2002062a201row4_col6 {\n",
       "            background-color:  #a5bddb;\n",
       "        }    #T_38595e76_248f_11e9_920e_f2002062a201row5_col0 {\n",
       "            background-color:  #f2ecf5;\n",
       "        }    #T_38595e76_248f_11e9_920e_f2002062a201row5_col1 {\n",
       "            background-color:  #efe9f3;\n",
       "        }    #T_38595e76_248f_11e9_920e_f2002062a201row5_col2 {\n",
       "            background-color:  #acc0dd;\n",
       "        }    #T_38595e76_248f_11e9_920e_f2002062a201row5_col3 {\n",
       "            background-color:  #e0dded;\n",
       "        }    #T_38595e76_248f_11e9_920e_f2002062a201row5_col4 {\n",
       "            background-color:  #fff7fb;\n",
       "        }    #T_38595e76_248f_11e9_920e_f2002062a201row5_col5 {\n",
       "            background-color:  #023858;\n",
       "        }    #T_38595e76_248f_11e9_920e_f2002062a201row5_col6 {\n",
       "            background-color:  #a2bcda;\n",
       "        }    #T_38595e76_248f_11e9_920e_f2002062a201row6_col0 {\n",
       "            background-color:  #fdf5fa;\n",
       "        }    #T_38595e76_248f_11e9_920e_f2002062a201row6_col1 {\n",
       "            background-color:  #f6eff7;\n",
       "        }    #T_38595e76_248f_11e9_920e_f2002062a201row6_col2 {\n",
       "            background-color:  #fff7fb;\n",
       "        }    #T_38595e76_248f_11e9_920e_f2002062a201row6_col3 {\n",
       "            background-color:  #d9d8ea;\n",
       "        }    #T_38595e76_248f_11e9_920e_f2002062a201row6_col4 {\n",
       "            background-color:  #faf2f8;\n",
       "        }    #T_38595e76_248f_11e9_920e_f2002062a201row6_col5 {\n",
       "            background-color:  #f7f0f7;\n",
       "        }    #T_38595e76_248f_11e9_920e_f2002062a201row6_col6 {\n",
       "            background-color:  #023858;\n",
       "        }</style>  \n",
       "<table id=\"T_38595e76_248f_11e9_920e_f2002062a201\" > \n",
       "<thead>    <tr> \n",
       "        <th class=\"blank level0\" ></th> \n",
       "        <th class=\"col_heading level0 col0\" >Balance</th> \n",
       "        <th class=\"col_heading level0 col1\" >Year</th> \n",
       "        <th class=\"col_heading level0 col2\" >Inflation</th> \n",
       "        <th class=\"col_heading level0 col3\" >GDP</th> \n",
       "        <th class=\"col_heading level0 col4\" >Exports</th> \n",
       "        <th class=\"col_heading level0 col5\" >Trade</th> \n",
       "        <th class=\"col_heading level0 col6\" >syn1</th> \n",
       "    </tr></thead> \n",
       "<tbody>    <tr> \n",
       "        <th id=\"T_38595e76_248f_11e9_920e_f2002062a201level0_row0\" class=\"row_heading level0 row0\" >Balance</th> \n",
       "        <td id=\"T_38595e76_248f_11e9_920e_f2002062a201row0_col0\" class=\"data row0 col0\" >1</td> \n",
       "        <td id=\"T_38595e76_248f_11e9_920e_f2002062a201row0_col1\" class=\"data row0 col1\" >0.0111765</td> \n",
       "        <td id=\"T_38595e76_248f_11e9_920e_f2002062a201row0_col2\" class=\"data row0 col2\" >0.000919432</td> \n",
       "        <td id=\"T_38595e76_248f_11e9_920e_f2002062a201row0_col3\" class=\"data row0 col3\" >0.0201054</td> \n",
       "        <td id=\"T_38595e76_248f_11e9_920e_f2002062a201row0_col4\" class=\"data row0 col4\" >-0.0146729</td> \n",
       "        <td id=\"T_38595e76_248f_11e9_920e_f2002062a201row0_col5\" class=\"data row0 col5\" >0.0764567</td> \n",
       "        <td id=\"T_38595e76_248f_11e9_920e_f2002062a201row0_col6\" class=\"data row0 col6\" >0.00115275</td> \n",
       "    </tr>    <tr> \n",
       "        <th id=\"T_38595e76_248f_11e9_920e_f2002062a201level0_row1\" class=\"row_heading level0 row1\" >Year</th> \n",
       "        <td id=\"T_38595e76_248f_11e9_920e_f2002062a201row1_col0\" class=\"data row1 col0\" >0.0111765</td> \n",
       "        <td id=\"T_38595e76_248f_11e9_920e_f2002062a201row1_col1\" class=\"data row1 col1\" >1</td> \n",
       "        <td id=\"T_38595e76_248f_11e9_920e_f2002062a201row1_col2\" class=\"data row1 col2\" >-0.0455437</td> \n",
       "        <td id=\"T_38595e76_248f_11e9_920e_f2002062a201row1_col3\" class=\"data row1 col3\" >-0.00996952</td> \n",
       "        <td id=\"T_38595e76_248f_11e9_920e_f2002062a201row1_col4\" class=\"data row1 col4\" >0.213872</td> \n",
       "        <td id=\"T_38595e76_248f_11e9_920e_f2002062a201row1_col5\" class=\"data row1 col5\" >0.066026</td> \n",
       "        <td id=\"T_38595e76_248f_11e9_920e_f2002062a201row1_col6\" class=\"data row1 col6\" >0.016557</td> \n",
       "    </tr>    <tr> \n",
       "        <th id=\"T_38595e76_248f_11e9_920e_f2002062a201level0_row2\" class=\"row_heading level0 row2\" >Inflation</th> \n",
       "        <td id=\"T_38595e76_248f_11e9_920e_f2002062a201row2_col0\" class=\"data row2 col0\" >0.000919432</td> \n",
       "        <td id=\"T_38595e76_248f_11e9_920e_f2002062a201row2_col1\" class=\"data row2 col1\" >-0.0455437</td> \n",
       "        <td id=\"T_38595e76_248f_11e9_920e_f2002062a201row2_col2\" class=\"data row2 col2\" >1</td> \n",
       "        <td id=\"T_38595e76_248f_11e9_920e_f2002062a201row2_col3\" class=\"data row2 col3\" >-0.0912275</td> \n",
       "        <td id=\"T_38595e76_248f_11e9_920e_f2002062a201row2_col4\" class=\"data row2 col4\" >-0.0207551</td> \n",
       "        <td id=\"T_38595e76_248f_11e9_920e_f2002062a201row2_col5\" class=\"data row2 col5\" >-0.0246931</td> \n",
       "        <td id=\"T_38595e76_248f_11e9_920e_f2002062a201row2_col6\" class=\"data row2 col6\" >-0.592371</td> \n",
       "    </tr>    <tr> \n",
       "        <th id=\"T_38595e76_248f_11e9_920e_f2002062a201level0_row3\" class=\"row_heading level0 row3\" >GDP</th> \n",
       "        <td id=\"T_38595e76_248f_11e9_920e_f2002062a201row3_col0\" class=\"data row3 col0\" >0.0201054</td> \n",
       "        <td id=\"T_38595e76_248f_11e9_920e_f2002062a201row3_col1\" class=\"data row3 col1\" >-0.00996952</td> \n",
       "        <td id=\"T_38595e76_248f_11e9_920e_f2002062a201row3_col2\" class=\"data row3 col2\" >-0.0912275</td> \n",
       "        <td id=\"T_38595e76_248f_11e9_920e_f2002062a201row3_col3\" class=\"data row3 col3\" >1</td> \n",
       "        <td id=\"T_38595e76_248f_11e9_920e_f2002062a201row3_col4\" class=\"data row3 col4\" >-0.0328561</td> \n",
       "        <td id=\"T_38595e76_248f_11e9_920e_f2002062a201row3_col5\" class=\"data row3 col5\" >0.105416</td> \n",
       "        <td id=\"T_38595e76_248f_11e9_920e_f2002062a201row3_col6\" class=\"data row3 col6\" >0.137726</td> \n",
       "    </tr>    <tr> \n",
       "        <th id=\"T_38595e76_248f_11e9_920e_f2002062a201level0_row4\" class=\"row_heading level0 row4\" >Exports</th> \n",
       "        <td id=\"T_38595e76_248f_11e9_920e_f2002062a201row4_col0\" class=\"data row4 col0\" >-0.0146729</td> \n",
       "        <td id=\"T_38595e76_248f_11e9_920e_f2002062a201row4_col1\" class=\"data row4 col1\" >0.213872</td> \n",
       "        <td id=\"T_38595e76_248f_11e9_920e_f2002062a201row4_col2\" class=\"data row4 col2\" >-0.0207551</td> \n",
       "        <td id=\"T_38595e76_248f_11e9_920e_f2002062a201row4_col3\" class=\"data row4 col3\" >-0.0328561</td> \n",
       "        <td id=\"T_38595e76_248f_11e9_920e_f2002062a201row4_col4\" class=\"data row4 col4\" >1</td> \n",
       "        <td id=\"T_38595e76_248f_11e9_920e_f2002062a201row4_col5\" class=\"data row4 col5\" >-0.0308244</td> \n",
       "        <td id=\"T_38595e76_248f_11e9_920e_f2002062a201row4_col6\" class=\"data row4 col6\" >0.00540507</td> \n",
       "    </tr>    <tr> \n",
       "        <th id=\"T_38595e76_248f_11e9_920e_f2002062a201level0_row5\" class=\"row_heading level0 row5\" >Trade</th> \n",
       "        <td id=\"T_38595e76_248f_11e9_920e_f2002062a201row5_col0\" class=\"data row5 col0\" >0.0764567</td> \n",
       "        <td id=\"T_38595e76_248f_11e9_920e_f2002062a201row5_col1\" class=\"data row5 col1\" >0.066026</td> \n",
       "        <td id=\"T_38595e76_248f_11e9_920e_f2002062a201row5_col2\" class=\"data row5 col2\" >-0.0246931</td> \n",
       "        <td id=\"T_38595e76_248f_11e9_920e_f2002062a201row5_col3\" class=\"data row5 col3\" >0.105416</td> \n",
       "        <td id=\"T_38595e76_248f_11e9_920e_f2002062a201row5_col4\" class=\"data row5 col4\" >-0.0308244</td> \n",
       "        <td id=\"T_38595e76_248f_11e9_920e_f2002062a201row5_col5\" class=\"data row5 col5\" >1</td> \n",
       "        <td id=\"T_38595e76_248f_11e9_920e_f2002062a201row5_col6\" class=\"data row5 col6\" >0.0224598</td> \n",
       "    </tr>    <tr> \n",
       "        <th id=\"T_38595e76_248f_11e9_920e_f2002062a201level0_row6\" class=\"row_heading level0 row6\" >syn1</th> \n",
       "        <td id=\"T_38595e76_248f_11e9_920e_f2002062a201row6_col0\" class=\"data row6 col0\" >0.00115275</td> \n",
       "        <td id=\"T_38595e76_248f_11e9_920e_f2002062a201row6_col1\" class=\"data row6 col1\" >0.016557</td> \n",
       "        <td id=\"T_38595e76_248f_11e9_920e_f2002062a201row6_col2\" class=\"data row6 col2\" >-0.592371</td> \n",
       "        <td id=\"T_38595e76_248f_11e9_920e_f2002062a201row6_col3\" class=\"data row6 col3\" >0.137726</td> \n",
       "        <td id=\"T_38595e76_248f_11e9_920e_f2002062a201row6_col4\" class=\"data row6 col4\" >0.00540507</td> \n",
       "        <td id=\"T_38595e76_248f_11e9_920e_f2002062a201row6_col5\" class=\"data row6 col5\" >0.0224598</td> \n",
       "        <td id=\"T_38595e76_248f_11e9_920e_f2002062a201row6_col6\" class=\"data row6 col6\" >1</td> \n",
       "    </tr></tbody> \n",
       "</table> "
      ],
      "text/plain": [
       "<pandas.io.formats.style.Styler at 0x119198f28>"
      ]
     },
     "execution_count": 96,
     "metadata": {},
     "output_type": "execute_result"
    }
   ],
   "source": [
    "df = data[['Balance','Year','Inflation','GDP','Exports','Trade']]\n",
    "rs = np.random.RandomState(0)\n",
    "corr = df.corr()\n",
    "corr.style.background_gradient()"
   ]
  },
  {
   "cell_type": "markdown",
   "metadata": {},
   "source": [
    "### Conclusions\n",
    "##### 1 . Dataset contains Multiple Entries for a country with Balance for Each Year\n",
    "##### 2 . Unequal Number of samples for different countries\n",
    "##### 3. Balance has positive correlation with Trade, GDP, Year and Inflation(Max: Trade). \n",
    "##### 4. Balance has negaticve correlation with Exports."
   ]
  }
 ],
 "metadata": {
  "kernelspec": {
   "display_name": "Python 3",
   "language": "python",
   "name": "python3"
  },
  "language_info": {
   "codemirror_mode": {
    "name": "ipython",
    "version": 3
   },
   "file_extension": ".py",
   "mimetype": "text/x-python",
   "name": "python",
   "nbconvert_exporter": "python",
   "pygments_lexer": "ipython3",
   "version": "3.6.7"
  }
 },
 "nbformat": 4,
 "nbformat_minor": 2
}
